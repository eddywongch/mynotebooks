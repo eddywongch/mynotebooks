{
 "cells": [
  {
   "cell_type": "markdown",
   "metadata": {},
   "source": [
    "Connecting to DSEGraph, to the \"MTB\" graph specifically"
   ]
  },
  {
   "cell_type": "code",
   "execution_count": 1,
   "metadata": {},
   "outputs": [],
   "source": [
    "\n",
    "\n",
    "from cassandra.cluster import Cluster, EXEC_PROFILE_GRAPH_DEFAULT\n",
    "from cassandra.datastax.graph import GraphProtocol\n",
    "from cassandra.datastax.graph.fluent import DseGraph\n",
    "\n",
    "host = '10.101.33.239'\n",
    "\n",
    "# Create an execution profile, using GraphSON3 for Core graphs\n",
    "ep = DseGraph.create_execution_profile(\n",
    "\t'mtb',\n",
    "\tgraph_protocol=GraphProtocol.GRAPHSON_3_0)\n",
    "\n",
    "cluster = Cluster(execution_profiles={EXEC_PROFILE_GRAPH_DEFAULT: ep}, contact_points=[host])\n",
    "session = cluster.connect()\n",
    "\n",
    "g = DseGraph.traversal_source(session=session)"
   ]
  },
  {
   "cell_type": "code",
   "execution_count": 2,
   "metadata": {},
   "outputs": [
    {
     "name": "stdout",
     "output_type": "stream",
     "text": [
      "v[dseg:/party/1001]\n"
     ]
    }
   ],
   "source": [
    "traversal1 = g.V().has('party', 'accountNumber', '1001').next()\n",
    "\n",
    "print(traversal1)"
   ]
  },
  {
   "cell_type": "code",
   "execution_count": 3,
   "metadata": {},
   "outputs": [
    {
     "name": "stdout",
     "output_type": "stream",
     "text": [
      "*** dseg:/party/1002\n",
      "key: contactFirstName | value:  John\n",
      "key: contactLastName | value:  Smith\n",
      "key: contactRiskScore | value:  300\n",
      "key: accountNumber | value:  1002\n",
      "*** dseg:/party/1004\n",
      "key: contactFirstName | value:  Joe\n",
      "key: contactLastName | value:  Smo\n",
      "key: contactRiskScore | value:  1\n",
      "key: accountNumber | value:  1004\n",
      "*** dseg:/party/1003\n",
      "key: contactFirstName | value:  Jane\n",
      "key: contactLastName | value:  Smith\n",
      "key: contactRiskScore | value:  200\n",
      "key: accountNumber | value:  1003\n",
      "*** dseg:/party/1001\n",
      "key: contactFirstName | value:  Eddy\n",
      "key: contactLastName | value:  Wong\n",
      "key: contactRiskScore | value:  700\n",
      "key: accountNumber | value:  1001\n"
     ]
    }
   ],
   "source": [
    "verts = g.V()\n",
    "for v in verts:\n",
    "    print(\"***\", v.id )\n",
    "    for p in g.V(v).properties():\n",
    "        #name = p.properties('name').value()\n",
    "        print(\"key:\",p.label, \"| value: \" ,p.value)"
   ]
  },
  {
   "cell_type": "code",
   "execution_count": 4,
   "metadata": {},
   "outputs": [],
   "source": [
    "def parseEdgeId(str):\n",
    "        result = {}\n",
    "\n",
    "        str_list = str.split('/')\n",
    "        edge_str = str_list[1]\n",
    "        edge_list = edge_str.split('-')\n",
    "        \n",
    "        result['source_label'] = edge_list[0]\n",
    "        result['dest_label'] = edge_list[2]\n",
    "        result['edge_label'] = edge_list[1]\n",
    "        result['source_id'] = str_list[2]\n",
    "        result['dest_id'] = str_list[3]\n",
    "\n",
    "        return result"
   ]
  },
  {
   "cell_type": "code",
   "execution_count": 5,
   "metadata": {},
   "outputs": [
    {
     "name": "stdout",
     "output_type": "stream",
     "text": [
      "*** dseg:/party-transaction-party/1001/t100/1002\n",
      "*** dseg:/party-transaction-party/1002/t101/1003\n",
      "*** dseg:/party-transaction-party/1002/t102/1003\n"
     ]
    }
   ],
   "source": [
    "import networkx as nx\n",
    "GG = nx.Graph()\n",
    "\n",
    "edges = g.E()\n",
    "for e in edges:\n",
    "    print(\"***\", e.id )\n",
    "    es = parseEdgeId(e.id)\n",
    "    GG.add_edge(es['source_id'], es['dest_id'], edge_label=es['edge_label'], \\\n",
    "                source_label=es['source_label'], dest_label=es['dest_label'])"
   ]
  },
  {
   "cell_type": "code",
   "execution_count": 6,
   "metadata": {
    "scrolled": true
   },
   "outputs": [
    {
     "data": {
      "image/png": "[encoded data removed]",
      "text/plain": [
       "<Figure size 432x288 with 1 Axes>"
      ]
     },
     "metadata": {},
     "output_type": "display_data"
    }
   ],
   "source": [
    "import matplotlib.pyplot as plt\n",
    "%matplotlib inline\n",
    "nx.draw(GG)"
   ]
  },
  {
   "cell_type": "code",
   "execution_count": 15,
   "metadata": {},
   "outputs": [
    {
     "data": {
      "text/html": [
       "\n",
       "        <iframe\n",
       "            width=\"500px\"\n",
       "            height=\"500px\"\n",
       "            src=\"nx.html\"\n",
       "            frameborder=\"0\"\n",
       "            allowfullscreen\n",
       "        ></iframe>\n",
       "        "
      ],
      "text/plain": [
       "<IPython.lib.display.IFrame at 0x7ff26fc72fd0>"
      ]
     },
     "execution_count": 15,
     "metadata": {},
     "output_type": "execute_result"
    }
   ],
   "source": [
    "from pyvis import network as net\n",
    "import networkx as nx\n",
    "\n",
    "nt = net.Network(notebook=True)\n",
    "# populates the nodes and edges data structures\n",
    "nt.from_nx(GG)\n",
    "nt.show(\"nx.html\")\n"
   ]
  },
  {
   "cell_type": "code",
   "execution_count": null,
   "metadata": {},
   "outputs": [],
   "source": []
  }
 ],
 "metadata": {
  "kernelspec": {
   "display_name": "Python 3",
   "language": "python",
   "name": "python3"
  },
  "language_info": {
   "codemirror_mode": {
    "name": "ipython",
    "version": 3
   },
   "file_extension": ".py",
   "mimetype": "text/x-python",
   "name": "python",
   "nbconvert_exporter": "python",
   "pygments_lexer": "ipython3",
   "version": "3.5.2"
  }
 },
 "nbformat": 4,
 "nbformat_minor": 4
}
